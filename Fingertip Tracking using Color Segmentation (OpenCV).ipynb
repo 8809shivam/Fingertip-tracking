{
 "cells": [
  {
   "cell_type": "code",
   "execution_count": 1,
   "id": "7450610b-9232-428b-ac2c-13da78d09a74",
   "metadata": {},
   "outputs": [
    {
     "name": "stdout",
     "output_type": "stream",
     "text": [
      "Requirement already satisfied: opencv-python in c:\\users\\asus\\appdata\\local\\programs\\python\\python312\\lib\\site-packages (4.10.0.84)\n",
      "Requirement already satisfied: numpy in c:\\users\\asus\\appdata\\local\\programs\\python\\python312\\lib\\site-packages (1.26.4)\n",
      "Note: you may need to restart the kernel to use updated packages.\n"
     ]
    }
   ],
   "source": [
    "pip install opencv-python numpy"
   ]
  },
  {
   "cell_type": "markdown",
   "id": "fc3d53f0-a533-43fa-a962-e68221c3208f",
   "metadata": {},
   "source": [
    "## Objective\n",
    "#### The goal of this implementation is to track the fingertip using a webcam by applying color segmentation techniques. This allows us to interact with the system using just our fingers, enabling natural gesture-based interfaces, especially useful in Augmented Reality (AR) applications."
   ]
  },
  {
   "cell_type": "markdown",
   "id": "7db06793-5ad1-41b0-8994-5fcdb0578898",
   "metadata": {},
   "source": [
    "### Concept Behind It\n",
    "##### To track a fingertip, we follow these steps:\n",
    "\n",
    "##### Capture a video stream using a webcam.\n",
    "\n",
    "##### Define a Region of Interest (ROI) where the user is expected to place their hand.\n",
    "\n",
    "##### Convert the ROI to HSV color space to easily filter out skin tones.\n",
    "\n",
    "##### Apply a color mask to isolate skin-colored pixels.\n",
    "\n",
    "##### Detect contours in the skin mask – the largest one is assumed to be the hand.\n",
    "\n",
    "##### Find the topmost point of the hand contour – this is usually the fingertip.\n",
    "\n",
    "##### Mark and display the fingertip position on the screen."
   ]
  },
  {
   "cell_type": "code",
   "execution_count": 2,
   "id": "f1b7d49a-3b2b-40fc-80fd-41aa30afd1ac",
   "metadata": {},
   "outputs": [],
   "source": [
    "import cv2\n",
    "import numpy as np\n",
    "\n",
    "# Open webcam\n",
    "cap = cv2.VideoCapture(0)\n",
    "\n",
    "while True:\n",
    "    ret, frame = cap.read()\n",
    "    if not ret:\n",
    "        break\n",
    "\n",
    "    frame = cv2.flip(frame, 1)  # Mirror the frame\n",
    "    roi = frame[100:400, 100:400]  # Define Region of Interest (ROI)\n",
    "\n",
    "    # Convert ROI to HSV\n",
    "    hsv = cv2.cvtColor(roi, cv2.COLOR_BGR2HSV)\n",
    "\n",
    "    # Define skin color range (can be tuned)\n",
    "    lower_skin = np.array([0, 20, 70], dtype=np.uint8)\n",
    "    upper_skin = np.array([20, 255, 255], dtype=np.uint8)\n",
    "\n",
    "    # Threshold the HSV image to get only skin colors\n",
    "    mask = cv2.inRange(hsv, lower_skin, upper_skin)\n",
    "\n",
    "    # Apply some filters\n",
    "    mask = cv2.GaussianBlur(mask, (5, 5), 0)\n",
    "\n",
    "    # Find contours\n",
    "    contours, _ = cv2.findContours(mask, cv2.RETR_TREE, cv2.CHAIN_APPROX_SIMPLE)\n",
    "\n",
    "    if contours:\n",
    "        # Get largest contour assumed to be the hand\n",
    "        cnt = max(contours, key=lambda x: cv2.contourArea(x))\n",
    "\n",
    "        # Draw the contour\n",
    "        cv2.drawContours(roi, [cnt], -1, (0, 255, 0), 2)\n",
    "\n",
    "        # Find the topmost point (assumed fingertip)\n",
    "        topmost = tuple(cnt[cnt[:, :, 1].argmin()][0])\n",
    "        cv2.circle(roi, topmost, 8, (255, 0, 0), -1)  # Fingertip mark\n",
    "\n",
    "    # Draw the ROI rectangle\n",
    "    cv2.rectangle(frame, (100, 100), (400, 400), (255, 0, 0), 2)\n",
    "    cv2.imshow(\"Fingertip Tracker\", frame)\n",
    "\n",
    "    if cv2.waitKey(1) & 0xFF == 27:  # ESC to exit\n",
    "        break\n",
    "\n",
    "cap.release()\n",
    "cv2.destroyAllWindows()\n"
   ]
  },
  {
   "cell_type": "markdown",
   "id": "fb134456-d739-4343-9870-0f66707c7ed3",
   "metadata": {},
   "source": [
    "### Why HSV and Not RGB?\n",
    "#### HSV (Hue, Saturation, Value) separates color information (hue) from lighting (value).\n",
    "\n",
    "#### This makes skin detection more robust to lighting changes compared to RGB."
   ]
  },
  {
   "cell_type": "markdown",
   "id": "95fa89d4-9a0c-48c6-9478-35a0723ae700",
   "metadata": {},
   "source": [
    "## 📸 Region of Interest (ROI)\n",
    "#### We don’t need to process the entire frame. Instead, we define a small area where the user will place their hand. This makes the system:\n",
    "\n",
    "##### Faster\n",
    "\n",
    "##### Less error-prone\n",
    "\n",
    "##### Easier to test\n",
    "\n",
    "#### python\n",
    "##### roi = frame[100:400, 100:400]\n",
    "#### ✋ Fingertip Detection Logic\n",
    "##### Once the hand contour is detected, we use:\n",
    "##### topmost = tuple(cnt[cnt[:, :, 1].argmin()][0])\n",
    "###### This finds the topmost point in the Y-axis — which is usually a raised finger.\n",
    "\n",
    "##### A circle is drawn at this point to visually show tracking."
   ]
  },
  {
   "cell_type": "code",
   "execution_count": null,
   "id": "3a7f200e-8c7f-4dd1-a5ed-4ef1f893edcc",
   "metadata": {},
   "outputs": [],
   "source": []
  }
 ],
 "metadata": {
  "kernelspec": {
   "display_name": "Python 3 (ipykernel)",
   "language": "python",
   "name": "python3"
  },
  "language_info": {
   "codemirror_mode": {
    "name": "ipython",
    "version": 3
   },
   "file_extension": ".py",
   "mimetype": "text/x-python",
   "name": "python",
   "nbconvert_exporter": "python",
   "pygments_lexer": "ipython3",
   "version": "3.12.4"
  }
 },
 "nbformat": 4,
 "nbformat_minor": 5
}
